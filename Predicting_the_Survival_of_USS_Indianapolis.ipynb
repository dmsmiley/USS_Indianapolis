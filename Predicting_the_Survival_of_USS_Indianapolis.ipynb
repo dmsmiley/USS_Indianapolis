{
  "nbformat": 4,
  "nbformat_minor": 0,
  "metadata": {
    "colab": {
      "name": "Predicting the Survival of USS Indianapolis",
      "provenance": []
    },
    "kernelspec": {
      "name": "python3",
      "display_name": "Python 3"
    }
  },
  "cells": [
    {
      "cell_type": "code",
      "metadata": {
        "id": "n8gisVi71a2y"
      },
      "source": [
        "#Import Libraries\n",
        "import numpy as np\n",
        "import pandas as pd\n",
        "import seaborn as sns\n",
        "import matplotlib.pyplot as plt\n",
        "%matplotlib inline\n",
        "from sklearn.svm import SVC\n",
        "from sklearn.model_selection import train_test_split, RandomizedSearchCV\n",
        "from sklearn.linear_model import LogisticRegression\n",
        "from sklearn.neighbors import KNeighborsClassifier\n",
        "from sklearn.tree import DecisionTreeClassifier\n",
        "from sklearn.ensemble import RandomForestClassifier\n",
        "from sklearn.feature_selection import RFE\n"
      ],
      "execution_count": 1,
      "outputs": []
    },
    {
      "cell_type": "code",
      "metadata": {
        "id": "8fqBOIp9Sm8z",
        "colab": {
          "base_uri": "https://localhost:8080/",
          "height": 356
        },
        "outputId": "8d77d1c7-bb5b-46ea-fc47-ce2dde715591"
      },
      "source": [
        "uss = pd.read_excel('ussindy.xlsx')\n",
        "uss.head(10)"
      ],
      "execution_count": null,
      "outputs": [
        {
          "output_type": "execute_result",
          "data": {
            "text/html": [
              "<div>\n",
              "<style scoped>\n",
              "    .dataframe tbody tr th:only-of-type {\n",
              "        vertical-align: middle;\n",
              "    }\n",
              "\n",
              "    .dataframe tbody tr th {\n",
              "        vertical-align: top;\n",
              "    }\n",
              "\n",
              "    .dataframe thead th {\n",
              "        text-align: right;\n",
              "    }\n",
              "</style>\n",
              "<table border=\"1\" class=\"dataframe\">\n",
              "  <thead>\n",
              "    <tr style=\"text-align: right;\">\n",
              "      <th></th>\n",
              "      <th>LAST</th>\n",
              "      <th>FIRST</th>\n",
              "      <th>ROLE</th>\n",
              "      <th>PAY GRADE</th>\n",
              "      <th>RANK</th>\n",
              "      <th>BIRTH YEAR</th>\n",
              "      <th>LS</th>\n",
              "      <th>CITY</th>\n",
              "      <th>STATE</th>\n",
              "    </tr>\n",
              "  </thead>\n",
              "  <tbody>\n",
              "    <tr>\n",
              "      <th>0</th>\n",
              "      <td>ABBOTT</td>\n",
              "      <td>George</td>\n",
              "      <td>S1</td>\n",
              "      <td>E-5</td>\n",
              "      <td>Enlisted</td>\n",
              "      <td>1924.0</td>\n",
              "      <td>0</td>\n",
              "      <td>Bedford</td>\n",
              "      <td>KY</td>\n",
              "    </tr>\n",
              "    <tr>\n",
              "      <th>1</th>\n",
              "      <td>ACOSTA</td>\n",
              "      <td>Charles</td>\n",
              "      <td>MM3</td>\n",
              "      <td>E-4</td>\n",
              "      <td>Enlisted</td>\n",
              "      <td>1925.0</td>\n",
              "      <td>0</td>\n",
              "      <td>New Orleans</td>\n",
              "      <td>LA</td>\n",
              "    </tr>\n",
              "    <tr>\n",
              "      <th>2</th>\n",
              "      <td>ADAMS</td>\n",
              "      <td>Leo</td>\n",
              "      <td>S1</td>\n",
              "      <td>E-5</td>\n",
              "      <td>Enlisted</td>\n",
              "      <td>1927.0</td>\n",
              "      <td>1</td>\n",
              "      <td>Detroit</td>\n",
              "      <td>MI</td>\n",
              "    </tr>\n",
              "    <tr>\n",
              "      <th>3</th>\n",
              "      <td>ADAMS</td>\n",
              "      <td>Pat</td>\n",
              "      <td>S2</td>\n",
              "      <td>E-6</td>\n",
              "      <td>Enlisted</td>\n",
              "      <td>1926.0</td>\n",
              "      <td>0</td>\n",
              "      <td>Monroe</td>\n",
              "      <td>LA</td>\n",
              "    </tr>\n",
              "    <tr>\n",
              "      <th>4</th>\n",
              "      <td>ADORANTE</td>\n",
              "      <td>Dante</td>\n",
              "      <td>S2</td>\n",
              "      <td>E-6</td>\n",
              "      <td>Enlisted</td>\n",
              "      <td>1928.0</td>\n",
              "      <td>0</td>\n",
              "      <td>Rochester</td>\n",
              "      <td>NY</td>\n",
              "    </tr>\n",
              "    <tr>\n",
              "      <th>5</th>\n",
              "      <td>AKINES</td>\n",
              "      <td>William</td>\n",
              "      <td>S2</td>\n",
              "      <td>E-6</td>\n",
              "      <td>Enlisted</td>\n",
              "      <td>1927.0</td>\n",
              "      <td>1</td>\n",
              "      <td>Chattanooga</td>\n",
              "      <td>TN</td>\n",
              "    </tr>\n",
              "    <tr>\n",
              "      <th>6</th>\n",
              "      <td>ALBRIGHT</td>\n",
              "      <td>Charles</td>\n",
              "      <td>COX</td>\n",
              "      <td>E-2</td>\n",
              "      <td>Enlisted</td>\n",
              "      <td>1925.0</td>\n",
              "      <td>0</td>\n",
              "      <td>Redondo Beach</td>\n",
              "      <td>CA</td>\n",
              "    </tr>\n",
              "    <tr>\n",
              "      <th>7</th>\n",
              "      <td>ALLARD</td>\n",
              "      <td>Vincent</td>\n",
              "      <td>QM3</td>\n",
              "      <td>E-4</td>\n",
              "      <td>Enlisted</td>\n",
              "      <td>1918.0</td>\n",
              "      <td>1</td>\n",
              "      <td>Omak</td>\n",
              "      <td>WA</td>\n",
              "    </tr>\n",
              "    <tr>\n",
              "      <th>8</th>\n",
              "      <td>ALLEN</td>\n",
              "      <td>Paul</td>\n",
              "      <td>S1</td>\n",
              "      <td>E-5</td>\n",
              "      <td>Enlisted</td>\n",
              "      <td>1926.0</td>\n",
              "      <td>0</td>\n",
              "      <td>Tuscaloosa</td>\n",
              "      <td>AL</td>\n",
              "    </tr>\n",
              "    <tr>\n",
              "      <th>9</th>\n",
              "      <td>ALLMARAS</td>\n",
              "      <td>Harold</td>\n",
              "      <td>F2</td>\n",
              "      <td>E-6</td>\n",
              "      <td>Enlisted</td>\n",
              "      <td>1926.0</td>\n",
              "      <td>0</td>\n",
              "      <td>Newell</td>\n",
              "      <td>CA</td>\n",
              "    </tr>\n",
              "  </tbody>\n",
              "</table>\n",
              "</div>"
            ],
            "text/plain": [
              "       LAST    FIRST ROLE PAY GRADE  ... BIRTH YEAR  LS           CITY STATE\n",
              "0    ABBOTT   George   S1       E-5  ...     1924.0   0        Bedford    KY\n",
              "1    ACOSTA  Charles  MM3       E-4  ...     1925.0   0    New Orleans    LA\n",
              "2     ADAMS      Leo   S1       E-5  ...     1927.0   1        Detroit    MI\n",
              "3     ADAMS      Pat   S2       E-6  ...     1926.0   0         Monroe    LA\n",
              "4  ADORANTE    Dante   S2       E-6  ...     1928.0   0      Rochester    NY\n",
              "5    AKINES  William   S2       E-6  ...     1927.0   1    Chattanooga    TN\n",
              "6  ALBRIGHT  Charles  COX       E-2  ...     1925.0   0  Redondo Beach    CA\n",
              "7    ALLARD  Vincent  QM3       E-4  ...     1918.0   1           Omak    WA\n",
              "8     ALLEN     Paul   S1       E-5  ...     1926.0   0     Tuscaloosa    AL\n",
              "9  ALLMARAS   Harold   F2       E-6  ...     1926.0   0         Newell    CA\n",
              "\n",
              "[10 rows x 9 columns]"
            ]
          },
          "metadata": {
            "tags": []
          },
          "execution_count": 18
        }
      ]
    },
    {
      "cell_type": "code",
      "metadata": {
        "id": "QvoIY0p-Zgkw"
      },
      "source": [
        "#counting number of rows and columns\n",
        "uss = uss.drop(['CITY'], axis=1)\n"
      ],
      "execution_count": null,
      "outputs": []
    },
    {
      "cell_type": "code",
      "metadata": {
        "id": "LCpzWNj4Q6xN"
      },
      "source": [
        "uss['BIRTH YEAR'] = uss['BIRTH YEAR'].fillna(uss['BIRTH YEAR'].mean()).round(0).astype(int)\n"
      ],
      "execution_count": null,
      "outputs": []
    },
    {
      "cell_type": "code",
      "metadata": {
        "colab": {
          "base_uri": "https://localhost:8080/",
          "height": 202
        },
        "id": "m29Q-8Z2VaDM",
        "outputId": "438de98d-24da-4e16-d552-571977fbaaa9"
      },
      "source": [
        "#turning \"RANK\" into boolean values, 0 = Enlisted, 1 = CO\n",
        "uss = pd.get_dummies(uss, columns=['RANK'])\n",
        "uss = uss.drop(columns=['RANK_Enlisted'])\n",
        "uss.head()"
      ],
      "execution_count": null,
      "outputs": [
        {
          "output_type": "execute_result",
          "data": {
            "text/html": [
              "<div>\n",
              "<style scoped>\n",
              "    .dataframe tbody tr th:only-of-type {\n",
              "        vertical-align: middle;\n",
              "    }\n",
              "\n",
              "    .dataframe tbody tr th {\n",
              "        vertical-align: top;\n",
              "    }\n",
              "\n",
              "    .dataframe thead th {\n",
              "        text-align: right;\n",
              "    }\n",
              "</style>\n",
              "<table border=\"1\" class=\"dataframe\">\n",
              "  <thead>\n",
              "    <tr style=\"text-align: right;\">\n",
              "      <th></th>\n",
              "      <th>LAST</th>\n",
              "      <th>FIRST</th>\n",
              "      <th>ROLE</th>\n",
              "      <th>PAY GRADE</th>\n",
              "      <th>BIRTH YEAR</th>\n",
              "      <th>LS</th>\n",
              "      <th>STATE</th>\n",
              "      <th>RANK_CO</th>\n",
              "    </tr>\n",
              "  </thead>\n",
              "  <tbody>\n",
              "    <tr>\n",
              "      <th>0</th>\n",
              "      <td>ABBOTT</td>\n",
              "      <td>George</td>\n",
              "      <td>S1</td>\n",
              "      <td>E-5</td>\n",
              "      <td>1924</td>\n",
              "      <td>0</td>\n",
              "      <td>KY</td>\n",
              "      <td>0</td>\n",
              "    </tr>\n",
              "    <tr>\n",
              "      <th>1</th>\n",
              "      <td>ACOSTA</td>\n",
              "      <td>Charles</td>\n",
              "      <td>MM3</td>\n",
              "      <td>E-4</td>\n",
              "      <td>1925</td>\n",
              "      <td>0</td>\n",
              "      <td>LA</td>\n",
              "      <td>0</td>\n",
              "    </tr>\n",
              "    <tr>\n",
              "      <th>2</th>\n",
              "      <td>ADAMS</td>\n",
              "      <td>Leo</td>\n",
              "      <td>S1</td>\n",
              "      <td>E-5</td>\n",
              "      <td>1927</td>\n",
              "      <td>1</td>\n",
              "      <td>MI</td>\n",
              "      <td>0</td>\n",
              "    </tr>\n",
              "    <tr>\n",
              "      <th>3</th>\n",
              "      <td>ADAMS</td>\n",
              "      <td>Pat</td>\n",
              "      <td>S2</td>\n",
              "      <td>E-6</td>\n",
              "      <td>1926</td>\n",
              "      <td>0</td>\n",
              "      <td>LA</td>\n",
              "      <td>0</td>\n",
              "    </tr>\n",
              "    <tr>\n",
              "      <th>4</th>\n",
              "      <td>ADORANTE</td>\n",
              "      <td>Dante</td>\n",
              "      <td>S2</td>\n",
              "      <td>E-6</td>\n",
              "      <td>1928</td>\n",
              "      <td>0</td>\n",
              "      <td>NY</td>\n",
              "      <td>0</td>\n",
              "    </tr>\n",
              "  </tbody>\n",
              "</table>\n",
              "</div>"
            ],
            "text/plain": [
              "       LAST    FIRST ROLE PAY GRADE  BIRTH YEAR  LS STATE  RANK_CO\n",
              "0    ABBOTT   George   S1       E-5        1924   0    KY        0\n",
              "1    ACOSTA  Charles  MM3       E-4        1925   0    LA        0\n",
              "2     ADAMS      Leo   S1       E-5        1927   1    MI        0\n",
              "3     ADAMS      Pat   S2       E-6        1926   0    LA        0\n",
              "4  ADORANTE    Dante   S2       E-6        1928   0    NY        0"
            ]
          },
          "metadata": {
            "tags": []
          },
          "execution_count": 21
        }
      ]
    },
    {
      "cell_type": "code",
      "metadata": {
        "id": "FOh2IcDAO904"
      },
      "source": [
        "uss['INDEX'] = uss.index"
      ],
      "execution_count": null,
      "outputs": []
    },
    {
      "cell_type": "code",
      "metadata": {
        "id": "EI7KVC8oS-X7",
        "colab": {
          "base_uri": "https://localhost:8080/"
        },
        "outputId": "77e19e3f-d543-42d6-b053-65c34a16b988"
      },
      "source": [
        "#Getting Statistics\n",
        "uss.count()"
      ],
      "execution_count": null,
      "outputs": [
        {
          "output_type": "execute_result",
          "data": {
            "text/plain": [
              "LAST          1195\n",
              "FIRST         1195\n",
              "ROLE          1195\n",
              "PAY GRADE     1195\n",
              "BIRTH YEAR    1195\n",
              "LS            1195\n",
              "STATE         1195\n",
              "RANK_CO       1195\n",
              "INDEX         1195\n",
              "dtype: int64"
            ]
          },
          "metadata": {
            "tags": []
          },
          "execution_count": 37
        }
      ]
    },
    {
      "cell_type": "code",
      "metadata": {
        "id": "ioSJUicraF05",
        "colab": {
          "base_uri": "https://localhost:8080/"
        },
        "outputId": "ea1a83fe-3f22-4827-b24a-f37a94f332c5"
      },
      "source": [
        "#Getting a count of the number of survivors, 0 = Lost at Sea, 1 = Survived\n",
        "uss['LS'].value_counts()"
      ],
      "execution_count": null,
      "outputs": [
        {
          "output_type": "execute_result",
          "data": {
            "text/plain": [
              "0    880\n",
              "1    315\n",
              "Name: LS, dtype: int64"
            ]
          },
          "metadata": {
            "tags": []
          },
          "execution_count": 24
        }
      ]
    },
    {
      "cell_type": "code",
      "metadata": {
        "colab": {
          "base_uri": "https://localhost:8080/"
        },
        "id": "mjsuuqQYTnLy",
        "outputId": "6d154b6a-6f1d-4e99-f97d-2faa32d4f104"
      },
      "source": [
        "uss['PAY GRADE'].value_counts()"
      ],
      "execution_count": null,
      "outputs": [
        {
          "output_type": "execute_result",
          "data": {
            "text/plain": [
              "E-6    369\n",
              "E-5    265\n",
              "E-4    178\n",
              "E-3    165\n",
              "E-2     98\n",
              "E-1     29\n",
              "O-1     28\n",
              "O-2     24\n",
              "O-3     16\n",
              "E-7      9\n",
              "O-4      8\n",
              "O-6      3\n",
              "O-5      3\n",
              "Name: PAY GRADE, dtype: int64"
            ]
          },
          "metadata": {
            "tags": []
          },
          "execution_count": 41
        }
      ]
    },
    {
      "cell_type": "code",
      "metadata": {
        "id": "AOhV5FNSLZ32",
        "colab": {
          "base_uri": "https://localhost:8080/",
          "height": 302
        },
        "outputId": "ce2b7140-47be-4b33-aae5-2bbd7bfc37b7"
      },
      "source": [
        "#visualize the count of number of survivors\n",
        "sns.set(style=\"darkgrid\")\n",
        "sns.countplot(x = 'LS', data = uss)"
      ],
      "execution_count": null,
      "outputs": [
        {
          "output_type": "execute_result",
          "data": {
            "text/plain": [
              "<matplotlib.axes._subplots.AxesSubplot at 0x7fd28e4acd50>"
            ]
          },
          "metadata": {
            "tags": []
          },
          "execution_count": 25
        },
        {
          "output_type": "display_data",
          "data": {
            "image/png": "[encoded data removed]",
            "text/plain": [
              "<Figure size 432x288 with 1 Axes>"
            ]
          },
          "metadata": {
            "tags": []
          }
        }
      ]
    },
    {
      "cell_type": "markdown",
      "metadata": {
        "id": "46IbRxBJt1Oq"
      },
      "source": [
        "Survival Rate by Enlisted v Commissioned Officers\n",
        "\n",
        "\n"
      ]
    },
    {
      "cell_type": "code",
      "metadata": {
        "id": "N7ODIaiwKayx",
        "colab": {
          "base_uri": "https://localhost:8080/",
          "height": 141
        },
        "outputId": "4076f7df-263a-4c71-b85e-1f59ac8f444d"
      },
      "source": [
        "percentage = uss.groupby('RANK_CO')[['LS']].mean()*100\n",
        "percentage"
      ],
      "execution_count": null,
      "outputs": [
        {
          "output_type": "execute_result",
          "data": {
            "text/html": [
              "<div>\n",
              "<style scoped>\n",
              "    .dataframe tbody tr th:only-of-type {\n",
              "        vertical-align: middle;\n",
              "    }\n",
              "\n",
              "    .dataframe tbody tr th {\n",
              "        vertical-align: top;\n",
              "    }\n",
              "\n",
              "    .dataframe thead th {\n",
              "        text-align: right;\n",
              "    }\n",
              "</style>\n",
              "<table border=\"1\" class=\"dataframe\">\n",
              "  <thead>\n",
              "    <tr style=\"text-align: right;\">\n",
              "      <th></th>\n",
              "      <th>LS</th>\n",
              "    </tr>\n",
              "    <tr>\n",
              "      <th>RANK_CO</th>\n",
              "      <th></th>\n",
              "    </tr>\n",
              "  </thead>\n",
              "  <tbody>\n",
              "    <tr>\n",
              "      <th>0</th>\n",
              "      <td>26.954178</td>\n",
              "    </tr>\n",
              "    <tr>\n",
              "      <th>1</th>\n",
              "      <td>18.292683</td>\n",
              "    </tr>\n",
              "  </tbody>\n",
              "</table>\n",
              "</div>"
            ],
            "text/plain": [
              "                LS\n",
              "RANK_CO           \n",
              "0        26.954178\n",
              "1        18.292683"
            ]
          },
          "metadata": {
            "tags": []
          },
          "execution_count": 26
        }
      ]
    },
    {
      "cell_type": "markdown",
      "metadata": {
        "id": "BtHe-6JWyLb6"
      },
      "source": [
        "Survival Rate by Pay-Grade"
      ]
    },
    {
      "cell_type": "code",
      "metadata": {
        "id": "wP25O5baIQ0B"
      },
      "source": [
        "pay_grade = uss.groupby('PAY GRADE')[['LS']].mean()*100"
      ],
      "execution_count": null,
      "outputs": []
    },
    {
      "cell_type": "markdown",
      "metadata": {
        "id": "z_Bx0J1AI4Sx"
      },
      "source": [
        "Visualization of survival rates"
      ]
    },
    {
      "cell_type": "code",
      "metadata": {
        "id": "6jguS_UII3uz",
        "colab": {
          "base_uri": "https://localhost:8080/",
          "height": 302
        },
        "outputId": "c06dae90-0991-4e9d-908d-291d06a3406f"
      },
      "source": [
        "sns.barplot(x='PAY GRADE', y=\"LS\", data= uss, capsize=.3)"
      ],
      "execution_count": null,
      "outputs": [
        {
          "output_type": "execute_result",
          "data": {
            "text/plain": [
              "<matplotlib.axes._subplots.AxesSubplot at 0x7fd28dd74310>"
            ]
          },
          "metadata": {
            "tags": []
          },
          "execution_count": 28
        },
        {
          "output_type": "display_data",
          "data": {
            "image/png": "[encoded data removed]",
            "text/plain": [
              "<Figure size 432x288 with 1 Axes>"
            ]
          },
          "metadata": {
            "tags": []
          }
        }
      ]
    },
    {
      "cell_type": "markdown",
      "metadata": {
        "id": "ijXPX846SxMa"
      },
      "source": [
        "Tests Below"
      ]
    },
    {
      "cell_type": "code",
      "metadata": {
        "colab": {
          "base_uri": "https://localhost:8080/",
          "height": 202
        },
        "id": "mI9Z-Bf6Vkgd",
        "outputId": "1b756feb-946f-455a-ea51-d390297a6c6a"
      },
      "source": [
        "dropped_uss = uss.drop(columns=['LAST','FIRST','PAY GRADE', 'STATE', 'ROLE'])\n",
        "dropped_uss.head()"
      ],
      "execution_count": null,
      "outputs": [
        {
          "output_type": "execute_result",
          "data": {
            "text/html": [
              "<div>\n",
              "<style scoped>\n",
              "    .dataframe tbody tr th:only-of-type {\n",
              "        vertical-align: middle;\n",
              "    }\n",
              "\n",
              "    .dataframe tbody tr th {\n",
              "        vertical-align: top;\n",
              "    }\n",
              "\n",
              "    .dataframe thead th {\n",
              "        text-align: right;\n",
              "    }\n",
              "</style>\n",
              "<table border=\"1\" class=\"dataframe\">\n",
              "  <thead>\n",
              "    <tr style=\"text-align: right;\">\n",
              "      <th></th>\n",
              "      <th>BIRTH YEAR</th>\n",
              "      <th>LS</th>\n",
              "      <th>RANK_CO</th>\n",
              "      <th>INDEX</th>\n",
              "    </tr>\n",
              "  </thead>\n",
              "  <tbody>\n",
              "    <tr>\n",
              "      <th>0</th>\n",
              "      <td>1924</td>\n",
              "      <td>0</td>\n",
              "      <td>0</td>\n",
              "      <td>0</td>\n",
              "    </tr>\n",
              "    <tr>\n",
              "      <th>1</th>\n",
              "      <td>1925</td>\n",
              "      <td>0</td>\n",
              "      <td>0</td>\n",
              "      <td>1</td>\n",
              "    </tr>\n",
              "    <tr>\n",
              "      <th>2</th>\n",
              "      <td>1927</td>\n",
              "      <td>1</td>\n",
              "      <td>0</td>\n",
              "      <td>2</td>\n",
              "    </tr>\n",
              "    <tr>\n",
              "      <th>3</th>\n",
              "      <td>1926</td>\n",
              "      <td>0</td>\n",
              "      <td>0</td>\n",
              "      <td>3</td>\n",
              "    </tr>\n",
              "    <tr>\n",
              "      <th>4</th>\n",
              "      <td>1928</td>\n",
              "      <td>0</td>\n",
              "      <td>0</td>\n",
              "      <td>4</td>\n",
              "    </tr>\n",
              "  </tbody>\n",
              "</table>\n",
              "</div>"
            ],
            "text/plain": [
              "   BIRTH YEAR  LS  RANK_CO  INDEX\n",
              "0        1924   0        0      0\n",
              "1        1925   0        0      1\n",
              "2        1927   1        0      2\n",
              "3        1926   0        0      3\n",
              "4        1928   0        0      4"
            ]
          },
          "metadata": {
            "tags": []
          },
          "execution_count": 45
        }
      ]
    },
    {
      "cell_type": "code",
      "metadata": {
        "colab": {
          "base_uri": "https://localhost:8080/",
          "height": 202
        },
        "id": "v_f2hHdTXj_6",
        "outputId": "e62bbe4c-6d3d-4a7e-9766-523ab3ebaf38"
      },
      "source": [
        "uss.head()"
      ],
      "execution_count": null,
      "outputs": [
        {
          "output_type": "execute_result",
          "data": {
            "text/html": [
              "<div>\n",
              "<style scoped>\n",
              "    .dataframe tbody tr th:only-of-type {\n",
              "        vertical-align: middle;\n",
              "    }\n",
              "\n",
              "    .dataframe tbody tr th {\n",
              "        vertical-align: top;\n",
              "    }\n",
              "\n",
              "    .dataframe thead th {\n",
              "        text-align: right;\n",
              "    }\n",
              "</style>\n",
              "<table border=\"1\" class=\"dataframe\">\n",
              "  <thead>\n",
              "    <tr style=\"text-align: right;\">\n",
              "      <th></th>\n",
              "      <th>LAST</th>\n",
              "      <th>FIRST</th>\n",
              "      <th>ROLE</th>\n",
              "      <th>PAY GRADE</th>\n",
              "      <th>BIRTH YEAR</th>\n",
              "      <th>LS</th>\n",
              "      <th>STATE</th>\n",
              "      <th>RANK_CO</th>\n",
              "      <th>INDEX</th>\n",
              "    </tr>\n",
              "  </thead>\n",
              "  <tbody>\n",
              "    <tr>\n",
              "      <th>0</th>\n",
              "      <td>ABBOTT</td>\n",
              "      <td>George</td>\n",
              "      <td>S1</td>\n",
              "      <td>E-5</td>\n",
              "      <td>1924</td>\n",
              "      <td>0</td>\n",
              "      <td>KY</td>\n",
              "      <td>0</td>\n",
              "      <td>0</td>\n",
              "    </tr>\n",
              "    <tr>\n",
              "      <th>1</th>\n",
              "      <td>ACOSTA</td>\n",
              "      <td>Charles</td>\n",
              "      <td>MM3</td>\n",
              "      <td>E-4</td>\n",
              "      <td>1925</td>\n",
              "      <td>0</td>\n",
              "      <td>LA</td>\n",
              "      <td>0</td>\n",
              "      <td>1</td>\n",
              "    </tr>\n",
              "    <tr>\n",
              "      <th>2</th>\n",
              "      <td>ADAMS</td>\n",
              "      <td>Leo</td>\n",
              "      <td>S1</td>\n",
              "      <td>E-5</td>\n",
              "      <td>1927</td>\n",
              "      <td>1</td>\n",
              "      <td>MI</td>\n",
              "      <td>0</td>\n",
              "      <td>2</td>\n",
              "    </tr>\n",
              "    <tr>\n",
              "      <th>3</th>\n",
              "      <td>ADAMS</td>\n",
              "      <td>Pat</td>\n",
              "      <td>S2</td>\n",
              "      <td>E-6</td>\n",
              "      <td>1926</td>\n",
              "      <td>0</td>\n",
              "      <td>LA</td>\n",
              "      <td>0</td>\n",
              "      <td>3</td>\n",
              "    </tr>\n",
              "    <tr>\n",
              "      <th>4</th>\n",
              "      <td>ADORANTE</td>\n",
              "      <td>Dante</td>\n",
              "      <td>S2</td>\n",
              "      <td>E-6</td>\n",
              "      <td>1928</td>\n",
              "      <td>0</td>\n",
              "      <td>NY</td>\n",
              "      <td>0</td>\n",
              "      <td>4</td>\n",
              "    </tr>\n",
              "  </tbody>\n",
              "</table>\n",
              "</div>"
            ],
            "text/plain": [
              "       LAST    FIRST ROLE PAY GRADE  BIRTH YEAR  LS STATE  RANK_CO  INDEX\n",
              "0    ABBOTT   George   S1       E-5        1924   0    KY        0      0\n",
              "1    ACOSTA  Charles  MM3       E-4        1925   0    LA        0      1\n",
              "2     ADAMS      Leo   S1       E-5        1927   1    MI        0      2\n",
              "3     ADAMS      Pat   S2       E-6        1926   0    LA        0      3\n",
              "4  ADORANTE    Dante   S2       E-6        1928   0    NY        0      4"
            ]
          },
          "metadata": {
            "tags": []
          },
          "execution_count": 55
        }
      ]
    },
    {
      "cell_type": "code",
      "metadata": {
        "colab": {
          "base_uri": "https://localhost:8080/",
          "height": 257
        },
        "id": "NKy0R63ZXFzt",
        "outputId": "1ebcc0d8-2c6c-4a7a-cf21-bb6bb64b37bd"
      },
      "source": [
        "non_dropped = pd.get_dummies(uss, columns=['PAY GRADE', 'STATE'])\n"
      ],
      "execution_count": null,
      "outputs": [
        {
          "output_type": "execute_result",
          "data": {
            "text/html": [
              "<div>\n",
              "<style scoped>\n",
              "    .dataframe tbody tr th:only-of-type {\n",
              "        vertical-align: middle;\n",
              "    }\n",
              "\n",
              "    .dataframe tbody tr th {\n",
              "        vertical-align: top;\n",
              "    }\n",
              "\n",
              "    .dataframe thead th {\n",
              "        text-align: right;\n",
              "    }\n",
              "</style>\n",
              "<table border=\"1\" class=\"dataframe\">\n",
              "  <thead>\n",
              "    <tr style=\"text-align: right;\">\n",
              "      <th></th>\n",
              "      <th>LAST</th>\n",
              "      <th>FIRST</th>\n",
              "      <th>ROLE</th>\n",
              "      <th>BIRTH YEAR</th>\n",
              "      <th>LS</th>\n",
              "      <th>RANK_CO</th>\n",
              "      <th>INDEX</th>\n",
              "      <th>PAY GRADE_E-1</th>\n",
              "      <th>PAY GRADE_E-2</th>\n",
              "      <th>PAY GRADE_E-3</th>\n",
              "      <th>PAY GRADE_E-4</th>\n",
              "      <th>PAY GRADE_E-5</th>\n",
              "      <th>PAY GRADE_E-6</th>\n",
              "      <th>PAY GRADE_E-7</th>\n",
              "      <th>PAY GRADE_O-1</th>\n",
              "      <th>PAY GRADE_O-2</th>\n",
              "      <th>PAY GRADE_O-3</th>\n",
              "      <th>PAY GRADE_O-4</th>\n",
              "      <th>PAY GRADE_O-5</th>\n",
              "      <th>PAY GRADE_O-6</th>\n",
              "      <th>STATE_AL</th>\n",
              "      <th>STATE_AR</th>\n",
              "      <th>STATE_AZ</th>\n",
              "      <th>STATE_CA</th>\n",
              "      <th>STATE_CO</th>\n",
              "      <th>STATE_CT</th>\n",
              "      <th>STATE_DC</th>\n",
              "      <th>STATE_DE</th>\n",
              "      <th>STATE_FL</th>\n",
              "      <th>STATE_GA</th>\n",
              "      <th>STATE_IA</th>\n",
              "      <th>STATE_ID</th>\n",
              "      <th>STATE_IL</th>\n",
              "      <th>STATE_IN</th>\n",
              "      <th>STATE_KS</th>\n",
              "      <th>STATE_KY</th>\n",
              "      <th>STATE_LA</th>\n",
              "      <th>STATE_MA</th>\n",
              "      <th>STATE_MD</th>\n",
              "      <th>STATE_MI</th>\n",
              "      <th>STATE_MN</th>\n",
              "      <th>STATE_MO</th>\n",
              "      <th>STATE_MS</th>\n",
              "      <th>STATE_MT</th>\n",
              "      <th>STATE_NC</th>\n",
              "      <th>STATE_ND</th>\n",
              "      <th>STATE_NE</th>\n",
              "      <th>STATE_NH</th>\n",
              "      <th>STATE_NJ</th>\n",
              "      <th>STATE_NM</th>\n",
              "      <th>STATE_NV</th>\n",
              "      <th>STATE_NY</th>\n",
              "      <th>STATE_OH</th>\n",
              "      <th>STATE_OK</th>\n",
              "      <th>STATE_OR</th>\n",
              "      <th>STATE_PA</th>\n",
              "      <th>STATE_RI</th>\n",
              "      <th>STATE_SC</th>\n",
              "      <th>STATE_SD</th>\n",
              "      <th>STATE_TN</th>\n",
              "      <th>STATE_TX</th>\n",
              "      <th>STATE_UT</th>\n",
              "      <th>STATE_VA</th>\n",
              "      <th>STATE_WA</th>\n",
              "      <th>STATE_WI</th>\n",
              "      <th>STATE_WV</th>\n",
              "      <th>STATE_WY</th>\n",
              "    </tr>\n",
              "  </thead>\n",
              "  <tbody>\n",
              "    <tr>\n",
              "      <th>0</th>\n",
              "      <td>ABBOTT</td>\n",
              "      <td>George</td>\n",
              "      <td>S1</td>\n",
              "      <td>1924</td>\n",
              "      <td>0</td>\n",
              "      <td>0</td>\n",
              "      <td>0</td>\n",
              "      <td>0</td>\n",
              "      <td>0</td>\n",
              "      <td>0</td>\n",
              "      <td>0</td>\n",
              "      <td>1</td>\n",
              "      <td>0</td>\n",
              "      <td>0</td>\n",
              "      <td>0</td>\n",
              "      <td>0</td>\n",
              "      <td>0</td>\n",
              "      <td>0</td>\n",
              "      <td>0</td>\n",
              "      <td>0</td>\n",
              "      <td>0</td>\n",
              "      <td>0</td>\n",
              "      <td>0</td>\n",
              "      <td>0</td>\n",
              "      <td>0</td>\n",
              "      <td>0</td>\n",
              "      <td>0</td>\n",
              "      <td>0</td>\n",
              "      <td>0</td>\n",
              "      <td>0</td>\n",
              "      <td>0</td>\n",
              "      <td>0</td>\n",
              "      <td>0</td>\n",
              "      <td>0</td>\n",
              "      <td>0</td>\n",
              "      <td>1</td>\n",
              "      <td>0</td>\n",
              "      <td>0</td>\n",
              "      <td>0</td>\n",
              "      <td>0</td>\n",
              "      <td>0</td>\n",
              "      <td>0</td>\n",
              "      <td>0</td>\n",
              "      <td>0</td>\n",
              "      <td>0</td>\n",
              "      <td>0</td>\n",
              "      <td>0</td>\n",
              "      <td>0</td>\n",
              "      <td>0</td>\n",
              "      <td>0</td>\n",
              "      <td>0</td>\n",
              "      <td>0</td>\n",
              "      <td>0</td>\n",
              "      <td>0</td>\n",
              "      <td>0</td>\n",
              "      <td>0</td>\n",
              "      <td>0</td>\n",
              "      <td>0</td>\n",
              "      <td>0</td>\n",
              "      <td>0</td>\n",
              "      <td>0</td>\n",
              "      <td>0</td>\n",
              "      <td>0</td>\n",
              "      <td>0</td>\n",
              "      <td>0</td>\n",
              "      <td>0</td>\n",
              "      <td>0</td>\n",
              "    </tr>\n",
              "    <tr>\n",
              "      <th>1</th>\n",
              "      <td>ACOSTA</td>\n",
              "      <td>Charles</td>\n",
              "      <td>MM3</td>\n",
              "      <td>1925</td>\n",
              "      <td>0</td>\n",
              "      <td>0</td>\n",
              "      <td>1</td>\n",
              "      <td>0</td>\n",
              "      <td>0</td>\n",
              "      <td>0</td>\n",
              "      <td>1</td>\n",
              "      <td>0</td>\n",
              "      <td>0</td>\n",
              "      <td>0</td>\n",
              "      <td>0</td>\n",
              "      <td>0</td>\n",
              "      <td>0</td>\n",
              "      <td>0</td>\n",
              "      <td>0</td>\n",
              "      <td>0</td>\n",
              "      <td>0</td>\n",
              "      <td>0</td>\n",
              "      <td>0</td>\n",
              "      <td>0</td>\n",
              "      <td>0</td>\n",
              "      <td>0</td>\n",
              "      <td>0</td>\n",
              "      <td>0</td>\n",
              "      <td>0</td>\n",
              "      <td>0</td>\n",
              "      <td>0</td>\n",
              "      <td>0</td>\n",
              "      <td>0</td>\n",
              "      <td>0</td>\n",
              "      <td>0</td>\n",
              "      <td>0</td>\n",
              "      <td>1</td>\n",
              "      <td>0</td>\n",
              "      <td>0</td>\n",
              "      <td>0</td>\n",
              "      <td>0</td>\n",
              "      <td>0</td>\n",
              "      <td>0</td>\n",
              "      <td>0</td>\n",
              "      <td>0</td>\n",
              "      <td>0</td>\n",
              "      <td>0</td>\n",
              "      <td>0</td>\n",
              "      <td>0</td>\n",
              "      <td>0</td>\n",
              "      <td>0</td>\n",
              "      <td>0</td>\n",
              "      <td>0</td>\n",
              "      <td>0</td>\n",
              "      <td>0</td>\n",
              "      <td>0</td>\n",
              "      <td>0</td>\n",
              "      <td>0</td>\n",
              "      <td>0</td>\n",
              "      <td>0</td>\n",
              "      <td>0</td>\n",
              "      <td>0</td>\n",
              "      <td>0</td>\n",
              "      <td>0</td>\n",
              "      <td>0</td>\n",
              "      <td>0</td>\n",
              "      <td>0</td>\n",
              "    </tr>\n",
              "    <tr>\n",
              "      <th>2</th>\n",
              "      <td>ADAMS</td>\n",
              "      <td>Leo</td>\n",
              "      <td>S1</td>\n",
              "      <td>1927</td>\n",
              "      <td>1</td>\n",
              "      <td>0</td>\n",
              "      <td>2</td>\n",
              "      <td>0</td>\n",
              "      <td>0</td>\n",
              "      <td>0</td>\n",
              "      <td>0</td>\n",
              "      <td>1</td>\n",
              "      <td>0</td>\n",
              "      <td>0</td>\n",
              "      <td>0</td>\n",
              "      <td>0</td>\n",
              "      <td>0</td>\n",
              "      <td>0</td>\n",
              "      <td>0</td>\n",
              "      <td>0</td>\n",
              "      <td>0</td>\n",
              "      <td>0</td>\n",
              "      <td>0</td>\n",
              "      <td>0</td>\n",
              "      <td>0</td>\n",
              "      <td>0</td>\n",
              "      <td>0</td>\n",
              "      <td>0</td>\n",
              "      <td>0</td>\n",
              "      <td>0</td>\n",
              "      <td>0</td>\n",
              "      <td>0</td>\n",
              "      <td>0</td>\n",
              "      <td>0</td>\n",
              "      <td>0</td>\n",
              "      <td>0</td>\n",
              "      <td>0</td>\n",
              "      <td>0</td>\n",
              "      <td>0</td>\n",
              "      <td>1</td>\n",
              "      <td>0</td>\n",
              "      <td>0</td>\n",
              "      <td>0</td>\n",
              "      <td>0</td>\n",
              "      <td>0</td>\n",
              "      <td>0</td>\n",
              "      <td>0</td>\n",
              "      <td>0</td>\n",
              "      <td>0</td>\n",
              "      <td>0</td>\n",
              "      <td>0</td>\n",
              "      <td>0</td>\n",
              "      <td>0</td>\n",
              "      <td>0</td>\n",
              "      <td>0</td>\n",
              "      <td>0</td>\n",
              "      <td>0</td>\n",
              "      <td>0</td>\n",
              "      <td>0</td>\n",
              "      <td>0</td>\n",
              "      <td>0</td>\n",
              "      <td>0</td>\n",
              "      <td>0</td>\n",
              "      <td>0</td>\n",
              "      <td>0</td>\n",
              "      <td>0</td>\n",
              "      <td>0</td>\n",
              "    </tr>\n",
              "    <tr>\n",
              "      <th>3</th>\n",
              "      <td>ADAMS</td>\n",
              "      <td>Pat</td>\n",
              "      <td>S2</td>\n",
              "      <td>1926</td>\n",
              "      <td>0</td>\n",
              "      <td>0</td>\n",
              "      <td>3</td>\n",
              "      <td>0</td>\n",
              "      <td>0</td>\n",
              "      <td>0</td>\n",
              "      <td>0</td>\n",
              "      <td>0</td>\n",
              "      <td>1</td>\n",
              "      <td>0</td>\n",
              "      <td>0</td>\n",
              "      <td>0</td>\n",
              "      <td>0</td>\n",
              "      <td>0</td>\n",
              "      <td>0</td>\n",
              "      <td>0</td>\n",
              "      <td>0</td>\n",
              "      <td>0</td>\n",
              "      <td>0</td>\n",
              "      <td>0</td>\n",
              "      <td>0</td>\n",
              "      <td>0</td>\n",
              "      <td>0</td>\n",
              "      <td>0</td>\n",
              "      <td>0</td>\n",
              "      <td>0</td>\n",
              "      <td>0</td>\n",
              "      <td>0</td>\n",
              "      <td>0</td>\n",
              "      <td>0</td>\n",
              "      <td>0</td>\n",
              "      <td>0</td>\n",
              "      <td>1</td>\n",
              "      <td>0</td>\n",
              "      <td>0</td>\n",
              "      <td>0</td>\n",
              "      <td>0</td>\n",
              "      <td>0</td>\n",
              "      <td>0</td>\n",
              "      <td>0</td>\n",
              "      <td>0</td>\n",
              "      <td>0</td>\n",
              "      <td>0</td>\n",
              "      <td>0</td>\n",
              "      <td>0</td>\n",
              "      <td>0</td>\n",
              "      <td>0</td>\n",
              "      <td>0</td>\n",
              "      <td>0</td>\n",
              "      <td>0</td>\n",
              "      <td>0</td>\n",
              "      <td>0</td>\n",
              "      <td>0</td>\n",
              "      <td>0</td>\n",
              "      <td>0</td>\n",
              "      <td>0</td>\n",
              "      <td>0</td>\n",
              "      <td>0</td>\n",
              "      <td>0</td>\n",
              "      <td>0</td>\n",
              "      <td>0</td>\n",
              "      <td>0</td>\n",
              "      <td>0</td>\n",
              "    </tr>\n",
              "    <tr>\n",
              "      <th>4</th>\n",
              "      <td>ADORANTE</td>\n",
              "      <td>Dante</td>\n",
              "      <td>S2</td>\n",
              "      <td>1928</td>\n",
              "      <td>0</td>\n",
              "      <td>0</td>\n",
              "      <td>4</td>\n",
              "      <td>0</td>\n",
              "      <td>0</td>\n",
              "      <td>0</td>\n",
              "      <td>0</td>\n",
              "      <td>0</td>\n",
              "      <td>1</td>\n",
              "      <td>0</td>\n",
              "      <td>0</td>\n",
              "      <td>0</td>\n",
              "      <td>0</td>\n",
              "      <td>0</td>\n",
              "      <td>0</td>\n",
              "      <td>0</td>\n",
              "      <td>0</td>\n",
              "      <td>0</td>\n",
              "      <td>0</td>\n",
              "      <td>0</td>\n",
              "      <td>0</td>\n",
              "      <td>0</td>\n",
              "      <td>0</td>\n",
              "      <td>0</td>\n",
              "      <td>0</td>\n",
              "      <td>0</td>\n",
              "      <td>0</td>\n",
              "      <td>0</td>\n",
              "      <td>0</td>\n",
              "      <td>0</td>\n",
              "      <td>0</td>\n",
              "      <td>0</td>\n",
              "      <td>0</td>\n",
              "      <td>0</td>\n",
              "      <td>0</td>\n",
              "      <td>0</td>\n",
              "      <td>0</td>\n",
              "      <td>0</td>\n",
              "      <td>0</td>\n",
              "      <td>0</td>\n",
              "      <td>0</td>\n",
              "      <td>0</td>\n",
              "      <td>0</td>\n",
              "      <td>0</td>\n",
              "      <td>0</td>\n",
              "      <td>0</td>\n",
              "      <td>0</td>\n",
              "      <td>1</td>\n",
              "      <td>0</td>\n",
              "      <td>0</td>\n",
              "      <td>0</td>\n",
              "      <td>0</td>\n",
              "      <td>0</td>\n",
              "      <td>0</td>\n",
              "      <td>0</td>\n",
              "      <td>0</td>\n",
              "      <td>0</td>\n",
              "      <td>0</td>\n",
              "      <td>0</td>\n",
              "      <td>0</td>\n",
              "      <td>0</td>\n",
              "      <td>0</td>\n",
              "      <td>0</td>\n",
              "    </tr>\n",
              "  </tbody>\n",
              "</table>\n",
              "</div>"
            ],
            "text/plain": [
              "       LAST    FIRST ROLE  BIRTH YEAR  ...  STATE_WA  STATE_WI  STATE_WV  STATE_WY\n",
              "0    ABBOTT   George   S1        1924  ...         0         0         0         0\n",
              "1    ACOSTA  Charles  MM3        1925  ...         0         0         0         0\n",
              "2     ADAMS      Leo   S1        1927  ...         0         0         0         0\n",
              "3     ADAMS      Pat   S2        1926  ...         0         0         0         0\n",
              "4  ADORANTE    Dante   S2        1928  ...         0         0         0         0\n",
              "\n",
              "[5 rows x 67 columns]"
            ]
          },
          "metadata": {
            "tags": []
          },
          "execution_count": 56
        }
      ]
    },
    {
      "cell_type": "code",
      "metadata": {
        "colab": {
          "base_uri": "https://localhost:8080/",
          "height": 257
        },
        "id": "lqAq9stFXsqd",
        "outputId": "c5423e7d-fae4-4c0b-a3a0-e705db97a289"
      },
      "source": [
        "non_dropped = non_dropped.drop(columns=['LAST','FIRST','ROLE'])\n",
        "non_dropped.head()"
      ],
      "execution_count": null,
      "outputs": [
        {
          "output_type": "execute_result",
          "data": {
            "text/html": [
              "<div>\n",
              "<style scoped>\n",
              "    .dataframe tbody tr th:only-of-type {\n",
              "        vertical-align: middle;\n",
              "    }\n",
              "\n",
              "    .dataframe tbody tr th {\n",
              "        vertical-align: top;\n",
              "    }\n",
              "\n",
              "    .dataframe thead th {\n",
              "        text-align: right;\n",
              "    }\n",
              "</style>\n",
              "<table border=\"1\" class=\"dataframe\">\n",
              "  <thead>\n",
              "    <tr style=\"text-align: right;\">\n",
              "      <th></th>\n",
              "      <th>BIRTH YEAR</th>\n",
              "      <th>LS</th>\n",
              "      <th>RANK_CO</th>\n",
              "      <th>INDEX</th>\n",
              "      <th>PAY GRADE_E-1</th>\n",
              "      <th>PAY GRADE_E-2</th>\n",
              "      <th>PAY GRADE_E-3</th>\n",
              "      <th>PAY GRADE_E-4</th>\n",
              "      <th>PAY GRADE_E-5</th>\n",
              "      <th>PAY GRADE_E-6</th>\n",
              "      <th>PAY GRADE_E-7</th>\n",
              "      <th>PAY GRADE_O-1</th>\n",
              "      <th>PAY GRADE_O-2</th>\n",
              "      <th>PAY GRADE_O-3</th>\n",
              "      <th>PAY GRADE_O-4</th>\n",
              "      <th>PAY GRADE_O-5</th>\n",
              "      <th>PAY GRADE_O-6</th>\n",
              "      <th>STATE_AL</th>\n",
              "      <th>STATE_AR</th>\n",
              "      <th>STATE_AZ</th>\n",
              "      <th>STATE_CA</th>\n",
              "      <th>STATE_CO</th>\n",
              "      <th>STATE_CT</th>\n",
              "      <th>STATE_DC</th>\n",
              "      <th>STATE_DE</th>\n",
              "      <th>STATE_FL</th>\n",
              "      <th>STATE_GA</th>\n",
              "      <th>STATE_IA</th>\n",
              "      <th>STATE_ID</th>\n",
              "      <th>STATE_IL</th>\n",
              "      <th>STATE_IN</th>\n",
              "      <th>STATE_KS</th>\n",
              "      <th>STATE_KY</th>\n",
              "      <th>STATE_LA</th>\n",
              "      <th>STATE_MA</th>\n",
              "      <th>STATE_MD</th>\n",
              "      <th>STATE_MI</th>\n",
              "      <th>STATE_MN</th>\n",
              "      <th>STATE_MO</th>\n",
              "      <th>STATE_MS</th>\n",
              "      <th>STATE_MT</th>\n",
              "      <th>STATE_NC</th>\n",
              "      <th>STATE_ND</th>\n",
              "      <th>STATE_NE</th>\n",
              "      <th>STATE_NH</th>\n",
              "      <th>STATE_NJ</th>\n",
              "      <th>STATE_NM</th>\n",
              "      <th>STATE_NV</th>\n",
              "      <th>STATE_NY</th>\n",
              "      <th>STATE_OH</th>\n",
              "      <th>STATE_OK</th>\n",
              "      <th>STATE_OR</th>\n",
              "      <th>STATE_PA</th>\n",
              "      <th>STATE_RI</th>\n",
              "      <th>STATE_SC</th>\n",
              "      <th>STATE_SD</th>\n",
              "      <th>STATE_TN</th>\n",
              "      <th>STATE_TX</th>\n",
              "      <th>STATE_UT</th>\n",
              "      <th>STATE_VA</th>\n",
              "      <th>STATE_WA</th>\n",
              "      <th>STATE_WI</th>\n",
              "      <th>STATE_WV</th>\n",
              "      <th>STATE_WY</th>\n",
              "    </tr>\n",
              "  </thead>\n",
              "  <tbody>\n",
              "    <tr>\n",
              "      <th>0</th>\n",
              "      <td>1924</td>\n",
              "      <td>0</td>\n",
              "      <td>0</td>\n",
              "      <td>0</td>\n",
              "      <td>0</td>\n",
              "      <td>0</td>\n",
              "      <td>0</td>\n",
              "      <td>0</td>\n",
              "      <td>1</td>\n",
              "      <td>0</td>\n",
              "      <td>0</td>\n",
              "      <td>0</td>\n",
              "      <td>0</td>\n",
              "      <td>0</td>\n",
              "      <td>0</td>\n",
              "      <td>0</td>\n",
              "      <td>0</td>\n",
              "      <td>0</td>\n",
              "      <td>0</td>\n",
              "      <td>0</td>\n",
              "      <td>0</td>\n",
              "      <td>0</td>\n",
              "      <td>0</td>\n",
              "      <td>0</td>\n",
              "      <td>0</td>\n",
              "      <td>0</td>\n",
              "      <td>0</td>\n",
              "      <td>0</td>\n",
              "      <td>0</td>\n",
              "      <td>0</td>\n",
              "      <td>0</td>\n",
              "      <td>0</td>\n",
              "      <td>1</td>\n",
              "      <td>0</td>\n",
              "      <td>0</td>\n",
              "      <td>0</td>\n",
              "      <td>0</td>\n",
              "      <td>0</td>\n",
              "      <td>0</td>\n",
              "      <td>0</td>\n",
              "      <td>0</td>\n",
              "      <td>0</td>\n",
              "      <td>0</td>\n",
              "      <td>0</td>\n",
              "      <td>0</td>\n",
              "      <td>0</td>\n",
              "      <td>0</td>\n",
              "      <td>0</td>\n",
              "      <td>0</td>\n",
              "      <td>0</td>\n",
              "      <td>0</td>\n",
              "      <td>0</td>\n",
              "      <td>0</td>\n",
              "      <td>0</td>\n",
              "      <td>0</td>\n",
              "      <td>0</td>\n",
              "      <td>0</td>\n",
              "      <td>0</td>\n",
              "      <td>0</td>\n",
              "      <td>0</td>\n",
              "      <td>0</td>\n",
              "      <td>0</td>\n",
              "      <td>0</td>\n",
              "      <td>0</td>\n",
              "    </tr>\n",
              "    <tr>\n",
              "      <th>1</th>\n",
              "      <td>1925</td>\n",
              "      <td>0</td>\n",
              "      <td>0</td>\n",
              "      <td>1</td>\n",
              "      <td>0</td>\n",
              "      <td>0</td>\n",
              "      <td>0</td>\n",
              "      <td>1</td>\n",
              "      <td>0</td>\n",
              "      <td>0</td>\n",
              "      <td>0</td>\n",
              "      <td>0</td>\n",
              "      <td>0</td>\n",
              "      <td>0</td>\n",
              "      <td>0</td>\n",
              "      <td>0</td>\n",
              "      <td>0</td>\n",
              "      <td>0</td>\n",
              "      <td>0</td>\n",
              "      <td>0</td>\n",
              "      <td>0</td>\n",
              "      <td>0</td>\n",
              "      <td>0</td>\n",
              "      <td>0</td>\n",
              "      <td>0</td>\n",
              "      <td>0</td>\n",
              "      <td>0</td>\n",
              "      <td>0</td>\n",
              "      <td>0</td>\n",
              "      <td>0</td>\n",
              "      <td>0</td>\n",
              "      <td>0</td>\n",
              "      <td>0</td>\n",
              "      <td>1</td>\n",
              "      <td>0</td>\n",
              "      <td>0</td>\n",
              "      <td>0</td>\n",
              "      <td>0</td>\n",
              "      <td>0</td>\n",
              "      <td>0</td>\n",
              "      <td>0</td>\n",
              "      <td>0</td>\n",
              "      <td>0</td>\n",
              "      <td>0</td>\n",
              "      <td>0</td>\n",
              "      <td>0</td>\n",
              "      <td>0</td>\n",
              "      <td>0</td>\n",
              "      <td>0</td>\n",
              "      <td>0</td>\n",
              "      <td>0</td>\n",
              "      <td>0</td>\n",
              "      <td>0</td>\n",
              "      <td>0</td>\n",
              "      <td>0</td>\n",
              "      <td>0</td>\n",
              "      <td>0</td>\n",
              "      <td>0</td>\n",
              "      <td>0</td>\n",
              "      <td>0</td>\n",
              "      <td>0</td>\n",
              "      <td>0</td>\n",
              "      <td>0</td>\n",
              "      <td>0</td>\n",
              "    </tr>\n",
              "    <tr>\n",
              "      <th>2</th>\n",
              "      <td>1927</td>\n",
              "      <td>1</td>\n",
              "      <td>0</td>\n",
              "      <td>2</td>\n",
              "      <td>0</td>\n",
              "      <td>0</td>\n",
              "      <td>0</td>\n",
              "      <td>0</td>\n",
              "      <td>1</td>\n",
              "      <td>0</td>\n",
              "      <td>0</td>\n",
              "      <td>0</td>\n",
              "      <td>0</td>\n",
              "      <td>0</td>\n",
              "      <td>0</td>\n",
              "      <td>0</td>\n",
              "      <td>0</td>\n",
              "      <td>0</td>\n",
              "      <td>0</td>\n",
              "      <td>0</td>\n",
              "      <td>0</td>\n",
              "      <td>0</td>\n",
              "      <td>0</td>\n",
              "      <td>0</td>\n",
              "      <td>0</td>\n",
              "      <td>0</td>\n",
              "      <td>0</td>\n",
              "      <td>0</td>\n",
              "      <td>0</td>\n",
              "      <td>0</td>\n",
              "      <td>0</td>\n",
              "      <td>0</td>\n",
              "      <td>0</td>\n",
              "      <td>0</td>\n",
              "      <td>0</td>\n",
              "      <td>0</td>\n",
              "      <td>1</td>\n",
              "      <td>0</td>\n",
              "      <td>0</td>\n",
              "      <td>0</td>\n",
              "      <td>0</td>\n",
              "      <td>0</td>\n",
              "      <td>0</td>\n",
              "      <td>0</td>\n",
              "      <td>0</td>\n",
              "      <td>0</td>\n",
              "      <td>0</td>\n",
              "      <td>0</td>\n",
              "      <td>0</td>\n",
              "      <td>0</td>\n",
              "      <td>0</td>\n",
              "      <td>0</td>\n",
              "      <td>0</td>\n",
              "      <td>0</td>\n",
              "      <td>0</td>\n",
              "      <td>0</td>\n",
              "      <td>0</td>\n",
              "      <td>0</td>\n",
              "      <td>0</td>\n",
              "      <td>0</td>\n",
              "      <td>0</td>\n",
              "      <td>0</td>\n",
              "      <td>0</td>\n",
              "      <td>0</td>\n",
              "    </tr>\n",
              "    <tr>\n",
              "      <th>3</th>\n",
              "      <td>1926</td>\n",
              "      <td>0</td>\n",
              "      <td>0</td>\n",
              "      <td>3</td>\n",
              "      <td>0</td>\n",
              "      <td>0</td>\n",
              "      <td>0</td>\n",
              "      <td>0</td>\n",
              "      <td>0</td>\n",
              "      <td>1</td>\n",
              "      <td>0</td>\n",
              "      <td>0</td>\n",
              "      <td>0</td>\n",
              "      <td>0</td>\n",
              "      <td>0</td>\n",
              "      <td>0</td>\n",
              "      <td>0</td>\n",
              "      <td>0</td>\n",
              "      <td>0</td>\n",
              "      <td>0</td>\n",
              "      <td>0</td>\n",
              "      <td>0</td>\n",
              "      <td>0</td>\n",
              "      <td>0</td>\n",
              "      <td>0</td>\n",
              "      <td>0</td>\n",
              "      <td>0</td>\n",
              "      <td>0</td>\n",
              "      <td>0</td>\n",
              "      <td>0</td>\n",
              "      <td>0</td>\n",
              "      <td>0</td>\n",
              "      <td>0</td>\n",
              "      <td>1</td>\n",
              "      <td>0</td>\n",
              "      <td>0</td>\n",
              "      <td>0</td>\n",
              "      <td>0</td>\n",
              "      <td>0</td>\n",
              "      <td>0</td>\n",
              "      <td>0</td>\n",
              "      <td>0</td>\n",
              "      <td>0</td>\n",
              "      <td>0</td>\n",
              "      <td>0</td>\n",
              "      <td>0</td>\n",
              "      <td>0</td>\n",
              "      <td>0</td>\n",
              "      <td>0</td>\n",
              "      <td>0</td>\n",
              "      <td>0</td>\n",
              "      <td>0</td>\n",
              "      <td>0</td>\n",
              "      <td>0</td>\n",
              "      <td>0</td>\n",
              "      <td>0</td>\n",
              "      <td>0</td>\n",
              "      <td>0</td>\n",
              "      <td>0</td>\n",
              "      <td>0</td>\n",
              "      <td>0</td>\n",
              "      <td>0</td>\n",
              "      <td>0</td>\n",
              "      <td>0</td>\n",
              "    </tr>\n",
              "    <tr>\n",
              "      <th>4</th>\n",
              "      <td>1928</td>\n",
              "      <td>0</td>\n",
              "      <td>0</td>\n",
              "      <td>4</td>\n",
              "      <td>0</td>\n",
              "      <td>0</td>\n",
              "      <td>0</td>\n",
              "      <td>0</td>\n",
              "      <td>0</td>\n",
              "      <td>1</td>\n",
              "      <td>0</td>\n",
              "      <td>0</td>\n",
              "      <td>0</td>\n",
              "      <td>0</td>\n",
              "      <td>0</td>\n",
              "      <td>0</td>\n",
              "      <td>0</td>\n",
              "      <td>0</td>\n",
              "      <td>0</td>\n",
              "      <td>0</td>\n",
              "      <td>0</td>\n",
              "      <td>0</td>\n",
              "      <td>0</td>\n",
              "      <td>0</td>\n",
              "      <td>0</td>\n",
              "      <td>0</td>\n",
              "      <td>0</td>\n",
              "      <td>0</td>\n",
              "      <td>0</td>\n",
              "      <td>0</td>\n",
              "      <td>0</td>\n",
              "      <td>0</td>\n",
              "      <td>0</td>\n",
              "      <td>0</td>\n",
              "      <td>0</td>\n",
              "      <td>0</td>\n",
              "      <td>0</td>\n",
              "      <td>0</td>\n",
              "      <td>0</td>\n",
              "      <td>0</td>\n",
              "      <td>0</td>\n",
              "      <td>0</td>\n",
              "      <td>0</td>\n",
              "      <td>0</td>\n",
              "      <td>0</td>\n",
              "      <td>0</td>\n",
              "      <td>0</td>\n",
              "      <td>0</td>\n",
              "      <td>1</td>\n",
              "      <td>0</td>\n",
              "      <td>0</td>\n",
              "      <td>0</td>\n",
              "      <td>0</td>\n",
              "      <td>0</td>\n",
              "      <td>0</td>\n",
              "      <td>0</td>\n",
              "      <td>0</td>\n",
              "      <td>0</td>\n",
              "      <td>0</td>\n",
              "      <td>0</td>\n",
              "      <td>0</td>\n",
              "      <td>0</td>\n",
              "      <td>0</td>\n",
              "      <td>0</td>\n",
              "    </tr>\n",
              "  </tbody>\n",
              "</table>\n",
              "</div>"
            ],
            "text/plain": [
              "   BIRTH YEAR  LS  RANK_CO  INDEX  ...  STATE_WA  STATE_WI  STATE_WV  STATE_WY\n",
              "0        1924   0        0      0  ...         0         0         0         0\n",
              "1        1925   0        0      1  ...         0         0         0         0\n",
              "2        1927   1        0      2  ...         0         0         0         0\n",
              "3        1926   0        0      3  ...         0         0         0         0\n",
              "4        1928   0        0      4  ...         0         0         0         0\n",
              "\n",
              "[5 rows x 64 columns]"
            ]
          },
          "metadata": {
            "tags": []
          },
          "execution_count": 57
        }
      ]
    },
    {
      "cell_type": "markdown",
      "metadata": {
        "id": "ZSzaBkR3ThGr"
      },
      "source": [
        "Basic Logistic Regression (Dropped Columns)\n"
      ]
    },
    {
      "cell_type": "code",
      "metadata": {
        "id": "mD5pUOR3TgrY"
      },
      "source": [
        "X = dropped_uss.drop(['LS','INDEX'], axis=1)\n",
        "y = dropped_uss['LS']\n",
        "\n",
        "X_train, X_test, y_train, y_test = train_test_split(X, y)"
      ],
      "execution_count": null,
      "outputs": []
    },
    {
      "cell_type": "code",
      "metadata": {
        "id": "kInnzABPUz6P"
      },
      "source": [
        "lg = LogisticRegression()"
      ],
      "execution_count": null,
      "outputs": []
    },
    {
      "cell_type": "code",
      "metadata": {
        "colab": {
          "base_uri": "https://localhost:8080/"
        },
        "id": "5i-BoQ2UQJS5",
        "outputId": "a4e39e15-8236-49b4-aa69-f15fa24c044e"
      },
      "source": [
        "lg.fit(X_train, y_train)"
      ],
      "execution_count": null,
      "outputs": [
        {
          "output_type": "execute_result",
          "data": {
            "text/plain": [
              "LogisticRegression(C=1.0, class_weight=None, dual=False, fit_intercept=True,\n",
              "                   intercept_scaling=1, l1_ratio=None, max_iter=100,\n",
              "                   multi_class='auto', n_jobs=None, penalty='l2',\n",
              "                   random_state=None, solver='lbfgs', tol=0.0001, verbose=0,\n",
              "                   warm_start=False)"
            ]
          },
          "metadata": {
            "tags": []
          },
          "execution_count": 48
        }
      ]
    },
    {
      "cell_type": "code",
      "metadata": {
        "id": "OVw1zwqjWAcw"
      },
      "source": [
        "predictions = lg.predict(X_test)"
      ],
      "execution_count": null,
      "outputs": []
    },
    {
      "cell_type": "code",
      "metadata": {
        "id": "inM3NfoJWE4R"
      },
      "source": [
        "from sklearn.metrics import accuracy_score, confusion_matrix"
      ],
      "execution_count": null,
      "outputs": []
    },
    {
      "cell_type": "code",
      "metadata": {
        "colab": {
          "base_uri": "https://localhost:8080/"
        },
        "id": "KdIfhDZqWI3V",
        "outputId": "97f2ef88-e77c-44e1-b61d-5c781203ce2e"
      },
      "source": [
        "accuracy_score(y_test, predictions)"
      ],
      "execution_count": null,
      "outputs": [
        {
          "output_type": "execute_result",
          "data": {
            "text/plain": [
              "0.7324414715719063"
            ]
          },
          "metadata": {
            "tags": []
          },
          "execution_count": 52
        }
      ]
    },
    {
      "cell_type": "markdown",
      "metadata": {
        "id": "MgC69LnTXKoN"
      },
      "source": [
        "Basic Logistic Regression (Dummy all columns)"
      ]
    },
    {
      "cell_type": "code",
      "metadata": {
        "id": "Lw9VASWgXN5b"
      },
      "source": [
        "X = non_dropped.drop(['LS', 'INDEX'], axis=1)\n",
        "y = non_dropped['LS']\n",
        "\n",
        "X_train, X_test, y_train, y_test = train_test_split(X, y)"
      ],
      "execution_count": null,
      "outputs": []
    },
    {
      "cell_type": "code",
      "metadata": {
        "colab": {
          "base_uri": "https://localhost:8080/"
        },
        "id": "kuvx-w4_YL4N",
        "outputId": "106c39bf-b38c-4645-d0e0-fa32c96c0c57"
      },
      "source": [
        "lg2 = LogisticRegression()\n",
        "lg2.fit(X_train, y_train)"
      ],
      "execution_count": null,
      "outputs": [
        {
          "output_type": "execute_result",
          "data": {
            "text/plain": [
              "LogisticRegression(C=1.0, class_weight=None, dual=False, fit_intercept=True,\n",
              "                   intercept_scaling=1, l1_ratio=None, max_iter=100,\n",
              "                   multi_class='auto', n_jobs=None, penalty='l2',\n",
              "                   random_state=None, solver='lbfgs', tol=0.0001, verbose=0,\n",
              "                   warm_start=False)"
            ]
          },
          "metadata": {
            "tags": []
          },
          "execution_count": 60
        }
      ]
    },
    {
      "cell_type": "code",
      "metadata": {
        "id": "1EK8JAw4XJ-p"
      },
      "source": [
        "pred2 = lg2.predict(X_test)"
      ],
      "execution_count": null,
      "outputs": []
    },
    {
      "cell_type": "code",
      "metadata": {
        "id": "My5EbOvrYUPq"
      },
      "source": [
        "lg_acc = accuracy_score(y_test, pred2)"
      ],
      "execution_count": null,
      "outputs": []
    },
    {
      "cell_type": "markdown",
      "metadata": {
        "id": "Km3IWb1bYCEd"
      },
      "source": [
        "###K-Means Clustering"
      ]
    },
    {
      "cell_type": "code",
      "metadata": {
        "id": "KEGQQlz_YGIq"
      },
      "source": [
        "kmeans = KNeighborsClassifier()"
      ],
      "execution_count": null,
      "outputs": []
    },
    {
      "cell_type": "code",
      "metadata": {
        "colab": {
          "base_uri": "https://localhost:8080/"
        },
        "id": "OhCFBAg4Y3Xe",
        "outputId": "63ece398-5203-43cd-dba0-d43ba17d3a2a"
      },
      "source": [
        "kmeans.fit(X_train, y_train)"
      ],
      "execution_count": null,
      "outputs": [
        {
          "output_type": "execute_result",
          "data": {
            "text/plain": [
              "KNeighborsClassifier(algorithm='auto', leaf_size=30, metric='minkowski',\n",
              "                     metric_params=None, n_jobs=None, n_neighbors=5, p=2,\n",
              "                     weights='uniform')"
            ]
          },
          "metadata": {
            "tags": []
          },
          "execution_count": 65
        }
      ]
    },
    {
      "cell_type": "code",
      "metadata": {
        "id": "lmykvxH4Y7J0"
      },
      "source": [
        "kpredictions = kmeans.predict(X_test)"
      ],
      "execution_count": null,
      "outputs": []
    },
    {
      "cell_type": "code",
      "metadata": {
        "id": "x64ilL1dY_li"
      },
      "source": [
        "kmeans_acc = accuracy_score(y_test, predictions)"
      ],
      "execution_count": null,
      "outputs": []
    },
    {
      "cell_type": "markdown",
      "metadata": {
        "id": "PrNuWQOuYSeB"
      },
      "source": [
        "###Decision Tree Classifier"
      ]
    },
    {
      "cell_type": "code",
      "metadata": {
        "id": "owJW4V79YU7u"
      },
      "source": [
        "tree = DecisionTreeClassifier()"
      ],
      "execution_count": null,
      "outputs": []
    },
    {
      "cell_type": "code",
      "metadata": {
        "colab": {
          "base_uri": "https://localhost:8080/"
        },
        "id": "M9rtI5CPaC5K",
        "outputId": "e5f99428-a4f3-490f-ea62-d59bec12e173"
      },
      "source": [
        "tree.fit(X_train, y_train)"
      ],
      "execution_count": null,
      "outputs": [
        {
          "output_type": "execute_result",
          "data": {
            "text/plain": [
              "DecisionTreeClassifier(ccp_alpha=0.0, class_weight=None, criterion='gini',\n",
              "                       max_depth=None, max_features=None, max_leaf_nodes=None,\n",
              "                       min_impurity_decrease=0.0, min_impurity_split=None,\n",
              "                       min_samples_leaf=1, min_samples_split=2,\n",
              "                       min_weight_fraction_leaf=0.0, presort='deprecated',\n",
              "                       random_state=None, splitter='best')"
            ]
          },
          "metadata": {
            "tags": []
          },
          "execution_count": 75
        }
      ]
    },
    {
      "cell_type": "code",
      "metadata": {
        "id": "nUQtgKGVaFnp"
      },
      "source": [
        "treePredictions = tree.predict(X_test)"
      ],
      "execution_count": null,
      "outputs": []
    },
    {
      "cell_type": "code",
      "metadata": {
        "id": "bjgajMP0aJmI"
      },
      "source": [
        "dtc_acc = accuracy_score(y_test,treePredictions)"
      ],
      "execution_count": null,
      "outputs": []
    },
    {
      "cell_type": "markdown",
      "metadata": {
        "id": "MJEpugeGdTaA"
      },
      "source": [
        "Random Forest Classifier"
      ]
    },
    {
      "cell_type": "code",
      "metadata": {
        "colab": {
          "base_uri": "https://localhost:8080/"
        },
        "id": "8P7YsAhmdU5g",
        "outputId": "b468885c-fe06-42ab-9f91-ecec2f6cf3dd"
      },
      "source": [
        "forest = RandomForestClassifier()\n",
        "forest.fit(X_train, y_train)"
      ],
      "execution_count": null,
      "outputs": [
        {
          "output_type": "execute_result",
          "data": {
            "text/plain": [
              "RandomForestClassifier(bootstrap=True, ccp_alpha=0.0, class_weight=None,\n",
              "                       criterion='gini', max_depth=None, max_features='auto',\n",
              "                       max_leaf_nodes=None, max_samples=None,\n",
              "                       min_impurity_decrease=0.0, min_impurity_split=None,\n",
              "                       min_samples_leaf=1, min_samples_split=2,\n",
              "                       min_weight_fraction_leaf=0.0, n_estimators=100,\n",
              "                       n_jobs=None, oob_score=False, random_state=None,\n",
              "                       verbose=0, warm_start=False)"
            ]
          },
          "metadata": {
            "tags": []
          },
          "execution_count": 84
        }
      ]
    },
    {
      "cell_type": "code",
      "metadata": {
        "id": "_JPtidYQcKad"
      },
      "source": [
        "forest_predict = forest.predict(X_test)\n",
        "forest_acc = accuracy_score(y_test, forest_predict)"
      ],
      "execution_count": null,
      "outputs": []
    },
    {
      "cell_type": "code",
      "metadata": {
        "id": "aCvmC5xUcKE6"
      },
      "source": [
        ""
      ],
      "execution_count": null,
      "outputs": []
    },
    {
      "cell_type": "markdown",
      "metadata": {
        "id": "RQjjUCOEdPVt"
      },
      "source": [
        "Summary of Different Models"
      ]
    },
    {
      "cell_type": "code",
      "metadata": {
        "colab": {
          "base_uri": "https://localhost:8080/"
        },
        "id": "WMKXpk3UaMUw",
        "outputId": "da11d171-ff39-4fe0-98a9-b615bac18d2c"
      },
      "source": [
        "print(\"Decision Tree Testing Accuracy: \", dtc_acc)\n",
        "confusion_matrix(list(y_test), treePredictions)"
      ],
      "execution_count": null,
      "outputs": [
        {
          "output_type": "stream",
          "text": [
            "Decision Tree Testing Accuracy:  0.6655518394648829\n"
          ],
          "name": "stdout"
        },
        {
          "output_type": "execute_result",
          "data": {
            "text/plain": [
              "array([[184,  41],\n",
              "       [ 59,  15]])"
            ]
          },
          "metadata": {
            "tags": []
          },
          "execution_count": 98
        }
      ]
    },
    {
      "cell_type": "code",
      "metadata": {
        "colab": {
          "base_uri": "https://localhost:8080/"
        },
        "id": "VNOtXIHeaklJ",
        "outputId": "7ac370ee-6fe0-474c-c88e-a47a88980e41"
      },
      "source": [
        "print(\"KMeans Clustering Testing Accuracy: \", kmeans_acc)\n",
        "confusion_matrix(list(y_test), kpredictions)"
      ],
      "execution_count": null,
      "outputs": [
        {
          "output_type": "stream",
          "text": [
            "KMeans Clustering Testing Accuracy:  0.7525083612040134\n"
          ],
          "name": "stdout"
        },
        {
          "output_type": "execute_result",
          "data": {
            "text/plain": [
              "array([[202,  23],\n",
              "       [ 67,   7]])"
            ]
          },
          "metadata": {
            "tags": []
          },
          "execution_count": 99
        }
      ]
    },
    {
      "cell_type": "code",
      "metadata": {
        "colab": {
          "base_uri": "https://localhost:8080/"
        },
        "id": "7uQGH4XxapSv",
        "outputId": "34a6bf61-a66f-4054-e6c2-9a015b3c4e3e"
      },
      "source": [
        "print(\"Logistic Regression Testing Accuracy: \", lg_acc)\n",
        "confusion_matrix(list(y_test), pred2)"
      ],
      "execution_count": null,
      "outputs": [
        {
          "output_type": "stream",
          "text": [
            "Logistic Regression Testing Accuracy:  0.7324414715719063\n"
          ],
          "name": "stdout"
        },
        {
          "output_type": "execute_result",
          "data": {
            "text/plain": [
              "array([[218,   7],\n",
              "       [ 73,   1]])"
            ]
          },
          "metadata": {
            "tags": []
          },
          "execution_count": 100
        }
      ]
    },
    {
      "cell_type": "code",
      "metadata": {
        "colab": {
          "base_uri": "https://localhost:8080/"
        },
        "id": "jtswEi5AawJJ",
        "outputId": "41f41b30-4bc3-477a-e365-ebbbaddec5a0"
      },
      "source": [
        "print(\"Random Forest Testing Accuracy \", forest_acc)\n",
        "confusion_matrix(list(y_test), forest_predict)"
      ],
      "execution_count": null,
      "outputs": [
        {
          "output_type": "stream",
          "text": [
            "Random Forest Testing Accuracy  0.6989966555183946\n"
          ],
          "name": "stdout"
        },
        {
          "output_type": "execute_result",
          "data": {
            "text/plain": [
              "array([[196,  29],\n",
              "       [ 61,  13]])"
            ]
          },
          "metadata": {
            "tags": []
          },
          "execution_count": 101
        }
      ]
    },
    {
      "cell_type": "code",
      "metadata": {
        "id": "H6xd9_gRdyjP"
      },
      "source": [
        "#Get feature importance\n",
        "rfe = RFE(lg2, 6)\n",
        "rfe = rfe.fit(X_test, y_test)"
      ],
      "execution_count": null,
      "outputs": []
    },
    {
      "cell_type": "code",
      "metadata": {
        "colab": {
          "base_uri": "https://localhost:8080/"
        },
        "id": "d2-OSuwIlyjr",
        "outputId": "4c5edebb-153a-4901-cc77-16359ce944af"
      },
      "source": [
        "print('Selected features: %s' % list(X_test.columns[rfe.support_]))"
      ],
      "execution_count": null,
      "outputs": [
        {
          "output_type": "stream",
          "text": [
            "Selected features: ['RANK_CO', 'PAY GRADE_E-1', 'PAY GRADE_E-4', 'STATE_KY', 'STATE_MA', 'STATE_WV']\n"
          ],
          "name": "stdout"
        }
      ]
    },
    {
      "cell_type": "code",
      "metadata": {
        "colab": {
          "base_uri": "https://localhost:8080/",
          "height": 200
        },
        "id": "z_rXOswKvGxK",
        "outputId": "6c71f789-12af-4ac7-fe69-af4e1276385c"
      },
      "source": [
        "viz = yellowbrick.FeatureImportances(lg2, stack=True, relative=False)\n",
        "viz.fit(X_test, y_test)\n",
        "viz.show()"
      ],
      "execution_count": null,
      "outputs": [
        {
          "output_type": "error",
          "ename": "AttributeError",
          "evalue": "ignored",
          "traceback": [
            "\u001b[0;31m---------------------------------------------------------------------------\u001b[0m",
            "\u001b[0;31mAttributeError\u001b[0m                            Traceback (most recent call last)",
            "\u001b[0;32m<ipython-input-162-cda945e92ae7>\u001b[0m in \u001b[0;36m<module>\u001b[0;34m()\u001b[0m\n\u001b[0;32m----> 1\u001b[0;31m \u001b[0mviz\u001b[0m \u001b[0;34m=\u001b[0m \u001b[0myellowbrick\u001b[0m\u001b[0;34m.\u001b[0m\u001b[0mFeatureImportances\u001b[0m\u001b[0;34m(\u001b[0m\u001b[0mlg2\u001b[0m\u001b[0;34m,\u001b[0m \u001b[0mstack\u001b[0m\u001b[0;34m=\u001b[0m\u001b[0;32mTrue\u001b[0m\u001b[0;34m,\u001b[0m \u001b[0mrelative\u001b[0m\u001b[0;34m=\u001b[0m\u001b[0;32mFalse\u001b[0m\u001b[0;34m)\u001b[0m\u001b[0;34m\u001b[0m\u001b[0;34m\u001b[0m\u001b[0m\n\u001b[0m\u001b[1;32m      2\u001b[0m \u001b[0mviz\u001b[0m\u001b[0;34m.\u001b[0m\u001b[0mfit\u001b[0m\u001b[0;34m(\u001b[0m\u001b[0mX_test\u001b[0m\u001b[0;34m,\u001b[0m \u001b[0my_test\u001b[0m\u001b[0;34m)\u001b[0m\u001b[0;34m\u001b[0m\u001b[0;34m\u001b[0m\u001b[0m\n\u001b[1;32m      3\u001b[0m \u001b[0mviz\u001b[0m\u001b[0;34m.\u001b[0m\u001b[0mshow\u001b[0m\u001b[0;34m(\u001b[0m\u001b[0;34m)\u001b[0m\u001b[0;34m\u001b[0m\u001b[0;34m\u001b[0m\u001b[0m\n",
            "\u001b[0;31mAttributeError\u001b[0m: module 'yellowbrick' has no attribute 'FeatureImportances'"
          ]
        }
      ]
    },
    {
      "cell_type": "code",
      "metadata": {
        "id": "EusAivhEvGtx"
      },
      "source": [
        ""
      ],
      "execution_count": null,
      "outputs": []
    },
    {
      "cell_type": "code",
      "metadata": {
        "id": "H5XLYMhavGcV"
      },
      "source": [
        ""
      ],
      "execution_count": null,
      "outputs": []
    },
    {
      "cell_type": "code",
      "metadata": {
        "colab": {
          "base_uri": "https://localhost:8080/"
        },
        "id": "rRUvzi2GkEaw",
        "outputId": "0693a33c-4cf1-4c41-ab86-a955044c4c6f"
      },
      "source": [
        "lg2.coef_.T"
      ],
      "execution_count": null,
      "outputs": [
        {
          "output_type": "execute_result",
          "data": {
            "text/plain": [
              "array([[-5.38308596e-04],\n",
              "       [-2.55022262e-01],\n",
              "       [-1.54470172e-01],\n",
              "       [ 2.28329451e-01],\n",
              "       [-3.46502587e-01],\n",
              "       [ 2.13467416e-02],\n",
              "       [ 5.09466030e-02],\n",
              "       [ 1.30309119e-01],\n",
              "       [ 3.19293898e-01],\n",
              "       [ 1.11880496e-01],\n",
              "       [-3.26248675e-01],\n",
              "       [-2.65408369e-01],\n",
              "       [ 2.40991027e-01],\n",
              "       [-1.36279621e-01],\n",
              "       [ 1.20042880e-01],\n",
              "       [ 4.80900081e-01],\n",
              "       [-4.45142549e-02],\n",
              "       [ 4.16677293e-01],\n",
              "       [ 6.80319121e-03],\n",
              "       [ 6.54949162e-02],\n",
              "       [ 2.65561564e-02],\n",
              "       [-1.38710516e-01],\n",
              "       [-3.45468809e-01],\n",
              "       [ 2.96680544e-01],\n",
              "       [-4.18851685e-01],\n",
              "       [-4.48639397e-01],\n",
              "       [ 7.68943719e-01],\n",
              "       [ 4.92528042e-02],\n",
              "       [-1.62641607e-01],\n",
              "       [-1.23064325e-01],\n",
              "       [-7.47765734e-01],\n",
              "       [-4.02501050e-01],\n",
              "       [ 3.91985853e-01],\n",
              "       [-1.09747586e-01],\n",
              "       [-9.80736730e-02],\n",
              "       [ 8.71468717e-01],\n",
              "       [-2.55738439e-01],\n",
              "       [-4.77483812e-01],\n",
              "       [-1.50827392e-01],\n",
              "       [ 1.50757379e-02],\n",
              "       [ 1.27191606e-01],\n",
              "       [ 4.47011796e-01],\n",
              "       [ 1.80573187e-01],\n",
              "       [ 8.88495335e-02],\n",
              "       [ 2.58019407e-01],\n",
              "       [ 2.54921296e-01],\n",
              "       [-7.17588415e-01],\n",
              "       [-2.32506536e-02],\n",
              "       [ 1.47816668e+00],\n",
              "       [ 6.68499499e-02],\n",
              "       [-4.43699770e-01],\n",
              "       [-1.71831381e-02],\n",
              "       [-2.63722236e-01],\n",
              "       [-7.52744202e-01],\n",
              "       [-9.55384885e-01],\n",
              "       [ 4.71797684e-01],\n",
              "       [-2.17033001e-01],\n",
              "       [-2.55553918e-01],\n",
              "       [ 7.23233760e-02],\n",
              "       [ 3.76365650e-01],\n",
              "       [ 4.20518897e-01],\n",
              "       [-6.80087869e-02]])"
            ]
          },
          "metadata": {
            "tags": []
          },
          "execution_count": 144
        }
      ]
    },
    {
      "cell_type": "code",
      "metadata": {
        "colab": {
          "base_uri": "https://localhost:8080/"
        },
        "id": "Jf0s-K28pGB0",
        "outputId": "1d6c1f81-1263-4285-c502-c553c967bc00"
      },
      "source": [
        "list(non_dropped)"
      ],
      "execution_count": null,
      "outputs": [
        {
          "output_type": "execute_result",
          "data": {
            "text/plain": [
              "['BIRTH YEAR',\n",
              " 'LS',\n",
              " 'RANK_CO',\n",
              " 'INDEX',\n",
              " 'PAY GRADE_E-1',\n",
              " 'PAY GRADE_E-2',\n",
              " 'PAY GRADE_E-3',\n",
              " 'PAY GRADE_E-4',\n",
              " 'PAY GRADE_E-5',\n",
              " 'PAY GRADE_E-6',\n",
              " 'PAY GRADE_E-7',\n",
              " 'PAY GRADE_O-1',\n",
              " 'PAY GRADE_O-2',\n",
              " 'PAY GRADE_O-3',\n",
              " 'PAY GRADE_O-4',\n",
              " 'PAY GRADE_O-5',\n",
              " 'PAY GRADE_O-6',\n",
              " 'STATE_AL',\n",
              " 'STATE_AR',\n",
              " 'STATE_AZ',\n",
              " 'STATE_CA',\n",
              " 'STATE_CO',\n",
              " 'STATE_CT',\n",
              " 'STATE_DC',\n",
              " 'STATE_DE',\n",
              " 'STATE_FL',\n",
              " 'STATE_GA',\n",
              " 'STATE_IA',\n",
              " 'STATE_ID',\n",
              " 'STATE_IL',\n",
              " 'STATE_IN',\n",
              " 'STATE_KS',\n",
              " 'STATE_KY',\n",
              " 'STATE_LA',\n",
              " 'STATE_MA',\n",
              " 'STATE_MD',\n",
              " 'STATE_MI',\n",
              " 'STATE_MN',\n",
              " 'STATE_MO',\n",
              " 'STATE_MS',\n",
              " 'STATE_MT',\n",
              " 'STATE_NC',\n",
              " 'STATE_ND',\n",
              " 'STATE_NE',\n",
              " 'STATE_NH',\n",
              " 'STATE_NJ',\n",
              " 'STATE_NM',\n",
              " 'STATE_NV',\n",
              " 'STATE_NY',\n",
              " 'STATE_OH',\n",
              " 'STATE_OK',\n",
              " 'STATE_OR',\n",
              " 'STATE_PA',\n",
              " 'STATE_RI',\n",
              " 'STATE_SC',\n",
              " 'STATE_SD',\n",
              " 'STATE_TN',\n",
              " 'STATE_TX',\n",
              " 'STATE_UT',\n",
              " 'STATE_VA',\n",
              " 'STATE_WA',\n",
              " 'STATE_WI',\n",
              " 'STATE_WV',\n",
              " 'STATE_WY']"
            ]
          },
          "metadata": {
            "tags": []
          },
          "execution_count": 135
        }
      ]
    },
    {
      "cell_type": "code",
      "metadata": {
        "colab": {
          "base_uri": "https://localhost:8080/"
        },
        "id": "wklWCZgLrvcx",
        "outputId": "efcbb205-2781-44f3-e89e-e1d138303949"
      },
      "source": [
        "np.array([uss_columns[1:-1]]).T"
      ],
      "execution_count": null,
      "outputs": [
        {
          "output_type": "execute_result",
          "data": {
            "text/plain": [
              "array([['LS'],\n",
              "       ['RANK_CO'],\n",
              "       ['INDEX'],\n",
              "       ['PAY GRADE_E-1'],\n",
              "       ['PAY GRADE_E-2'],\n",
              "       ['PAY GRADE_E-3'],\n",
              "       ['PAY GRADE_E-4'],\n",
              "       ['PAY GRADE_E-5'],\n",
              "       ['PAY GRADE_E-6'],\n",
              "       ['PAY GRADE_E-7'],\n",
              "       ['PAY GRADE_O-1'],\n",
              "       ['PAY GRADE_O-2'],\n",
              "       ['PAY GRADE_O-3'],\n",
              "       ['PAY GRADE_O-4'],\n",
              "       ['PAY GRADE_O-5'],\n",
              "       ['PAY GRADE_O-6'],\n",
              "       ['STATE_AL'],\n",
              "       ['STATE_AR'],\n",
              "       ['STATE_AZ'],\n",
              "       ['STATE_CA'],\n",
              "       ['STATE_CO'],\n",
              "       ['STATE_CT'],\n",
              "       ['STATE_DC'],\n",
              "       ['STATE_DE'],\n",
              "       ['STATE_FL'],\n",
              "       ['STATE_GA'],\n",
              "       ['STATE_IA'],\n",
              "       ['STATE_ID'],\n",
              "       ['STATE_IL'],\n",
              "       ['STATE_IN'],\n",
              "       ['STATE_KS'],\n",
              "       ['STATE_KY'],\n",
              "       ['STATE_LA'],\n",
              "       ['STATE_MA'],\n",
              "       ['STATE_MD'],\n",
              "       ['STATE_MI'],\n",
              "       ['STATE_MN'],\n",
              "       ['STATE_MO'],\n",
              "       ['STATE_MS'],\n",
              "       ['STATE_MT'],\n",
              "       ['STATE_NC'],\n",
              "       ['STATE_ND'],\n",
              "       ['STATE_NE'],\n",
              "       ['STATE_NH'],\n",
              "       ['STATE_NJ'],\n",
              "       ['STATE_NM'],\n",
              "       ['STATE_NV'],\n",
              "       ['STATE_NY'],\n",
              "       ['STATE_OH'],\n",
              "       ['STATE_OK'],\n",
              "       ['STATE_OR'],\n",
              "       ['STATE_PA'],\n",
              "       ['STATE_RI'],\n",
              "       ['STATE_SC'],\n",
              "       ['STATE_SD'],\n",
              "       ['STATE_TN'],\n",
              "       ['STATE_TX'],\n",
              "       ['STATE_UT'],\n",
              "       ['STATE_VA'],\n",
              "       ['STATE_WA'],\n",
              "       ['STATE_WI'],\n",
              "       ['STATE_WV']], dtype='<U13')"
            ]
          },
          "metadata": {
            "tags": []
          },
          "execution_count": 142
        }
      ]
    },
    {
      "cell_type": "code",
      "metadata": {
        "id": "cLkKYAovr3ek"
      },
      "source": [
        "feature_imporance = pd.DataFrame(np.hstack((np.array([uss_columns[1:-1]]).T, lg2.coef_.T)), columns =[ 'Features', 'Importance'])"
      ],
      "execution_count": null,
      "outputs": []
    },
    {
      "cell_type": "code",
      "metadata": {
        "id": "-SiHo5y4s0_Y"
      },
      "source": [
        "feature_imporance['Importance'] = pd.to_numeric(feature_imporance['Importance'])"
      ],
      "execution_count": null,
      "outputs": []
    },
    {
      "cell_type": "code",
      "metadata": {
        "colab": {
          "base_uri": "https://localhost:8080/",
          "height": 416
        },
        "id": "ggAA-2Tns5yp",
        "outputId": "fa3c7ae3-4a42-4b49-83b5-43278727d2c7"
      },
      "source": [
        "feature_imporance.sort_values(by='Importance', ascending=False)"
      ],
      "execution_count": null,
      "outputs": [
        {
          "output_type": "execute_result",
          "data": {
            "text/html": [
              "<div>\n",
              "<style scoped>\n",
              "    .dataframe tbody tr th:only-of-type {\n",
              "        vertical-align: middle;\n",
              "    }\n",
              "\n",
              "    .dataframe tbody tr th {\n",
              "        vertical-align: top;\n",
              "    }\n",
              "\n",
              "    .dataframe thead th {\n",
              "        text-align: right;\n",
              "    }\n",
              "</style>\n",
              "<table border=\"1\" class=\"dataframe\">\n",
              "  <thead>\n",
              "    <tr style=\"text-align: right;\">\n",
              "      <th></th>\n",
              "      <th>Features</th>\n",
              "      <th>Importance</th>\n",
              "    </tr>\n",
              "  </thead>\n",
              "  <tbody>\n",
              "    <tr>\n",
              "      <th>48</th>\n",
              "      <td>STATE_OH</td>\n",
              "      <td>1.478167</td>\n",
              "    </tr>\n",
              "    <tr>\n",
              "      <th>35</th>\n",
              "      <td>STATE_MI</td>\n",
              "      <td>0.871469</td>\n",
              "    </tr>\n",
              "    <tr>\n",
              "      <th>26</th>\n",
              "      <td>STATE_IA</td>\n",
              "      <td>0.768944</td>\n",
              "    </tr>\n",
              "    <tr>\n",
              "      <th>15</th>\n",
              "      <td>PAY GRADE_O-6</td>\n",
              "      <td>0.480900</td>\n",
              "    </tr>\n",
              "    <tr>\n",
              "      <th>55</th>\n",
              "      <td>STATE_TN</td>\n",
              "      <td>0.471798</td>\n",
              "    </tr>\n",
              "    <tr>\n",
              "      <th>...</th>\n",
              "      <td>...</td>\n",
              "      <td>...</td>\n",
              "    </tr>\n",
              "    <tr>\n",
              "      <th>37</th>\n",
              "      <td>STATE_MO</td>\n",
              "      <td>-0.477484</td>\n",
              "    </tr>\n",
              "    <tr>\n",
              "      <th>46</th>\n",
              "      <td>STATE_NV</td>\n",
              "      <td>-0.717588</td>\n",
              "    </tr>\n",
              "    <tr>\n",
              "      <th>30</th>\n",
              "      <td>STATE_KS</td>\n",
              "      <td>-0.747766</td>\n",
              "    </tr>\n",
              "    <tr>\n",
              "      <th>53</th>\n",
              "      <td>STATE_SC</td>\n",
              "      <td>-0.752744</td>\n",
              "    </tr>\n",
              "    <tr>\n",
              "      <th>54</th>\n",
              "      <td>STATE_SD</td>\n",
              "      <td>-0.955385</td>\n",
              "    </tr>\n",
              "  </tbody>\n",
              "</table>\n",
              "<p>62 rows × 2 columns</p>\n",
              "</div>"
            ],
            "text/plain": [
              "         Features  Importance\n",
              "48       STATE_OH    1.478167\n",
              "35       STATE_MI    0.871469\n",
              "26       STATE_IA    0.768944\n",
              "15  PAY GRADE_O-6    0.480900\n",
              "55       STATE_TN    0.471798\n",
              "..            ...         ...\n",
              "37       STATE_MO   -0.477484\n",
              "46       STATE_NV   -0.717588\n",
              "30       STATE_KS   -0.747766\n",
              "53       STATE_SC   -0.752744\n",
              "54       STATE_SD   -0.955385\n",
              "\n",
              "[62 rows x 2 columns]"
            ]
          },
          "metadata": {
            "tags": []
          },
          "execution_count": 141
        }
      ]
    },
    {
      "cell_type": "markdown",
      "metadata": {
        "id": "-eVfHdLZsfOf"
      },
      "source": [
        ""
      ]
    }
  ]
}